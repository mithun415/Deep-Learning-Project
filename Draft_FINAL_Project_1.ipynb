{
  "nbformat": 4,
  "nbformat_minor": 0,
  "metadata": {
    "colab": {
      "provenance": [],
      "mount_file_id": "1JieuF2uqqaLdbQOxeoB0LWR36uDM2wHR",
      "authorship_tag": "ABX9TyMDb5UcdXzOkvOCslr+hpD/",
      "include_colab_link": true
    },
    "kernelspec": {
      "name": "python3",
      "display_name": "Python 3"
    },
    "language_info": {
      "name": "python"
    }
  },
  "cells": [
    {
      "cell_type": "markdown",
      "metadata": {
        "id": "view-in-github",
        "colab_type": "text"
      },
      "source": [
        "<a href=\"https://colab.research.google.com/github/mithun415/Deep-Learning-Project/blob/main/Draft_FINAL_Project_1.ipynb\" target=\"_parent\"><img src=\"https://colab.research.google.com/assets/colab-badge.svg\" alt=\"Open In Colab\"/></a>"
      ]
    },
    {
      "cell_type": "code",
      "execution_count": 1,
      "metadata": {
        "id": "lVZj9CeW375W"
      },
      "outputs": [],
      "source": [
        "import pandas as pd\n",
        "import numpy as np\n",
        "import tensorflow as tf\n",
        "from tensorflow.keras.preprocessing.text import Tokenizer\n",
        "from tensorflow.keras.preprocessing.sequence import pad_sequences\n",
        "from sklearn.preprocessing import MultiLabelBinarizer\n",
        "from sklearn.model_selection import train_test_split"
      ]
    },
    {
      "cell_type": "code",
      "source": [
        "questions_path = '/content/drive/MyDrive/Deep Learning Project/Project 1/Questions.csv'\n",
        "tags_path = '/content/drive/MyDrive/Deep Learning Project/Project 1/Tags.csv'"
      ],
      "metadata": {
        "id": "lAgduSRKK6_s"
      },
      "execution_count": 2,
      "outputs": []
    },
    {
      "cell_type": "code",
      "source": [
        "questions_df = pd.read_csv(questions_path, usecols=['Id', 'Title', 'Body'], encoding='latin-1')\n",
        "tags_df = pd.read_csv(tags_path, usecols=['Id', 'Tag'], encoding='latin-1')"
      ],
      "metadata": {
        "id": "CnKDN98fLSDk"
      },
      "execution_count": 3,
      "outputs": []
    },
    {
      "cell_type": "code",
      "source": [
        "data = questions_df.merge(tags_df, on='Id', how='inner')"
      ],
      "metadata": {
        "id": "gF3CzGoaLUye"
      },
      "execution_count": 4,
      "outputs": []
    },
    {
      "cell_type": "code",
      "source": [
        "# Sample of the data to reduce memory usage because colab keeps crashing.\n",
        "data = data.sample(frac=0.5, random_state=42).reset_index(drop=True)"
      ],
      "metadata": {
        "id": "LVoZ6ybGzJx4"
      },
      "execution_count": 5,
      "outputs": []
    },
    {
      "cell_type": "code",
      "source": [
        "data['text'] = data['Title'].fillna('') + \" \" + data['Body'].fillna('')"
      ],
      "metadata": {
        "id": "lyQKS84KLw8C"
      },
      "execution_count": 6,
      "outputs": []
    },
    {
      "cell_type": "code",
      "source": [
        "data['Tag'] = data['Tag'].astype(str).apply(lambda x: [x])"
      ],
      "metadata": {
        "id": "MsmhBZosL0mP"
      },
      "execution_count": 7,
      "outputs": []
    },
    {
      "cell_type": "code",
      "source": [
        "data['Tag']"
      ],
      "metadata": {
        "colab": {
          "base_uri": "https://localhost:8080/",
          "height": 458
        },
        "id": "LveXglhANIan",
        "outputId": "4dcdb3b5-99b5-4269-f9f2-747d88fa0ada"
      },
      "execution_count": 8,
      "outputs": [
        {
          "output_type": "execute_result",
          "data": {
            "text/plain": [
              "0                   [missing-data]\n",
              "1                              [c]\n",
              "2                          [regex]\n",
              "3                       [symfony2]\n",
              "4                           [ajax]\n",
              "                    ...           \n",
              "1875492    [model-view-controller]\n",
              "1875493                  [android]\n",
              "1875494                      [c++]\n",
              "1875495                    [mysql]\n",
              "1875496                [wordpress]\n",
              "Name: Tag, Length: 1875497, dtype: object"
            ],
            "text/html": [
              "<div>\n",
              "<style scoped>\n",
              "    .dataframe tbody tr th:only-of-type {\n",
              "        vertical-align: middle;\n",
              "    }\n",
              "\n",
              "    .dataframe tbody tr th {\n",
              "        vertical-align: top;\n",
              "    }\n",
              "\n",
              "    .dataframe thead th {\n",
              "        text-align: right;\n",
              "    }\n",
              "</style>\n",
              "<table border=\"1\" class=\"dataframe\">\n",
              "  <thead>\n",
              "    <tr style=\"text-align: right;\">\n",
              "      <th></th>\n",
              "      <th>Tag</th>\n",
              "    </tr>\n",
              "  </thead>\n",
              "  <tbody>\n",
              "    <tr>\n",
              "      <th>0</th>\n",
              "      <td>[missing-data]</td>\n",
              "    </tr>\n",
              "    <tr>\n",
              "      <th>1</th>\n",
              "      <td>[c]</td>\n",
              "    </tr>\n",
              "    <tr>\n",
              "      <th>2</th>\n",
              "      <td>[regex]</td>\n",
              "    </tr>\n",
              "    <tr>\n",
              "      <th>3</th>\n",
              "      <td>[symfony2]</td>\n",
              "    </tr>\n",
              "    <tr>\n",
              "      <th>4</th>\n",
              "      <td>[ajax]</td>\n",
              "    </tr>\n",
              "    <tr>\n",
              "      <th>...</th>\n",
              "      <td>...</td>\n",
              "    </tr>\n",
              "    <tr>\n",
              "      <th>1875492</th>\n",
              "      <td>[model-view-controller]</td>\n",
              "    </tr>\n",
              "    <tr>\n",
              "      <th>1875493</th>\n",
              "      <td>[android]</td>\n",
              "    </tr>\n",
              "    <tr>\n",
              "      <th>1875494</th>\n",
              "      <td>[c++]</td>\n",
              "    </tr>\n",
              "    <tr>\n",
              "      <th>1875495</th>\n",
              "      <td>[mysql]</td>\n",
              "    </tr>\n",
              "    <tr>\n",
              "      <th>1875496</th>\n",
              "      <td>[wordpress]</td>\n",
              "    </tr>\n",
              "  </tbody>\n",
              "</table>\n",
              "<p>1875497 rows × 1 columns</p>\n",
              "</div><br><label><b>dtype:</b> object</label>"
            ]
          },
          "metadata": {},
          "execution_count": 8
        }
      ]
    },
    {
      "cell_type": "code",
      "source": [
        "data = data.groupby('Id').agg({\n",
        "    'text': 'first',\n",
        "    'Tag': lambda x: list(np.unique(x.astype(str).tolist()))  # Convert to list and handle single values\n",
        "}).reset_index()"
      ],
      "metadata": {
        "id": "-JQx5NYdODw2"
      },
      "execution_count": 9,
      "outputs": []
    },
    {
      "cell_type": "code",
      "source": [
        "data"
      ],
      "metadata": {
        "colab": {
          "base_uri": "https://localhost:8080/",
          "height": 423
        },
        "id": "dGP-IzH_OKPA",
        "outputId": "2294e36f-f326-48c7-8b57-b29ab4ca6c4e"
      },
      "execution_count": 10,
      "outputs": [
        {
          "output_type": "execute_result",
          "data": {
            "text/plain": [
              "               Id                                               text  \\\n",
              "0              80  SQLStatement.execute() - multiple queries in o...   \n",
              "1              90  Good branching and merging tutorials for Torto...   \n",
              "2             120  ASP.NET Site Maps <p>Has anyone got experience...   \n",
              "3             180  Function for creating color wheels <p>This is ...   \n",
              "4             330  Should I use nested classes in this case? <p>I...   \n",
              "...           ...                                                ...   \n",
              "1040339  40143190  How to execute multiline python code from a ba...   \n",
              "1040340  40143300  Bigquery.Jobs.Insert - Resumable Upload? <p>Th...   \n",
              "1040341  40143340  Obfuscating code in android studio <p>Under mi...   \n",
              "1040342  40143360  How to fire function after v-model change? <p>...   \n",
              "1040343  40143380  npm run mocha test - files being cached <p>I'm...   \n",
              "\n",
              "                                                       Tag  \n",
              "0                  [['actionscript-3'], ['air'], ['flex']]  \n",
              "1                                    [['branch'], ['svn']]  \n",
              "2                                   [['sitemap'], ['sql']]  \n",
              "3        [['color-space'], ['colors'], ['language-agnos...  \n",
              "4                                     [['class'], ['oop']]  \n",
              "...                                                    ...  \n",
              "1040339                                    [['multiline']]  \n",
              "1040340                              [['google-bigquery']]  \n",
              "1040341                  [['android'], ['android-studio']]  \n",
              "1040342                                   [['javascript']]  \n",
              "1040343                               [['babel'], ['npm']]  \n",
              "\n",
              "[1040344 rows x 3 columns]"
            ],
            "text/html": [
              "\n",
              "  <div id=\"df-fa3d9373-e457-4e23-863f-398858e0348e\" class=\"colab-df-container\">\n",
              "    <div>\n",
              "<style scoped>\n",
              "    .dataframe tbody tr th:only-of-type {\n",
              "        vertical-align: middle;\n",
              "    }\n",
              "\n",
              "    .dataframe tbody tr th {\n",
              "        vertical-align: top;\n",
              "    }\n",
              "\n",
              "    .dataframe thead th {\n",
              "        text-align: right;\n",
              "    }\n",
              "</style>\n",
              "<table border=\"1\" class=\"dataframe\">\n",
              "  <thead>\n",
              "    <tr style=\"text-align: right;\">\n",
              "      <th></th>\n",
              "      <th>Id</th>\n",
              "      <th>text</th>\n",
              "      <th>Tag</th>\n",
              "    </tr>\n",
              "  </thead>\n",
              "  <tbody>\n",
              "    <tr>\n",
              "      <th>0</th>\n",
              "      <td>80</td>\n",
              "      <td>SQLStatement.execute() - multiple queries in o...</td>\n",
              "      <td>[['actionscript-3'], ['air'], ['flex']]</td>\n",
              "    </tr>\n",
              "    <tr>\n",
              "      <th>1</th>\n",
              "      <td>90</td>\n",
              "      <td>Good branching and merging tutorials for Torto...</td>\n",
              "      <td>[['branch'], ['svn']]</td>\n",
              "    </tr>\n",
              "    <tr>\n",
              "      <th>2</th>\n",
              "      <td>120</td>\n",
              "      <td>ASP.NET Site Maps &lt;p&gt;Has anyone got experience...</td>\n",
              "      <td>[['sitemap'], ['sql']]</td>\n",
              "    </tr>\n",
              "    <tr>\n",
              "      <th>3</th>\n",
              "      <td>180</td>\n",
              "      <td>Function for creating color wheels &lt;p&gt;This is ...</td>\n",
              "      <td>[['color-space'], ['colors'], ['language-agnos...</td>\n",
              "    </tr>\n",
              "    <tr>\n",
              "      <th>4</th>\n",
              "      <td>330</td>\n",
              "      <td>Should I use nested classes in this case? &lt;p&gt;I...</td>\n",
              "      <td>[['class'], ['oop']]</td>\n",
              "    </tr>\n",
              "    <tr>\n",
              "      <th>...</th>\n",
              "      <td>...</td>\n",
              "      <td>...</td>\n",
              "      <td>...</td>\n",
              "    </tr>\n",
              "    <tr>\n",
              "      <th>1040339</th>\n",
              "      <td>40143190</td>\n",
              "      <td>How to execute multiline python code from a ba...</td>\n",
              "      <td>[['multiline']]</td>\n",
              "    </tr>\n",
              "    <tr>\n",
              "      <th>1040340</th>\n",
              "      <td>40143300</td>\n",
              "      <td>Bigquery.Jobs.Insert - Resumable Upload? &lt;p&gt;Th...</td>\n",
              "      <td>[['google-bigquery']]</td>\n",
              "    </tr>\n",
              "    <tr>\n",
              "      <th>1040341</th>\n",
              "      <td>40143340</td>\n",
              "      <td>Obfuscating code in android studio &lt;p&gt;Under mi...</td>\n",
              "      <td>[['android'], ['android-studio']]</td>\n",
              "    </tr>\n",
              "    <tr>\n",
              "      <th>1040342</th>\n",
              "      <td>40143360</td>\n",
              "      <td>How to fire function after v-model change? &lt;p&gt;...</td>\n",
              "      <td>[['javascript']]</td>\n",
              "    </tr>\n",
              "    <tr>\n",
              "      <th>1040343</th>\n",
              "      <td>40143380</td>\n",
              "      <td>npm run mocha test - files being cached &lt;p&gt;I'm...</td>\n",
              "      <td>[['babel'], ['npm']]</td>\n",
              "    </tr>\n",
              "  </tbody>\n",
              "</table>\n",
              "<p>1040344 rows × 3 columns</p>\n",
              "</div>\n",
              "    <div class=\"colab-df-buttons\">\n",
              "\n",
              "  <div class=\"colab-df-container\">\n",
              "    <button class=\"colab-df-convert\" onclick=\"convertToInteractive('df-fa3d9373-e457-4e23-863f-398858e0348e')\"\n",
              "            title=\"Convert this dataframe to an interactive table.\"\n",
              "            style=\"display:none;\">\n",
              "\n",
              "  <svg xmlns=\"http://www.w3.org/2000/svg\" height=\"24px\" viewBox=\"0 -960 960 960\">\n",
              "    <path d=\"M120-120v-720h720v720H120Zm60-500h600v-160H180v160Zm220 220h160v-160H400v160Zm0 220h160v-160H400v160ZM180-400h160v-160H180v160Zm440 0h160v-160H620v160ZM180-180h160v-160H180v160Zm440 0h160v-160H620v160Z\"/>\n",
              "  </svg>\n",
              "    </button>\n",
              "\n",
              "  <style>\n",
              "    .colab-df-container {\n",
              "      display:flex;\n",
              "      gap: 12px;\n",
              "    }\n",
              "\n",
              "    .colab-df-convert {\n",
              "      background-color: #E8F0FE;\n",
              "      border: none;\n",
              "      border-radius: 50%;\n",
              "      cursor: pointer;\n",
              "      display: none;\n",
              "      fill: #1967D2;\n",
              "      height: 32px;\n",
              "      padding: 0 0 0 0;\n",
              "      width: 32px;\n",
              "    }\n",
              "\n",
              "    .colab-df-convert:hover {\n",
              "      background-color: #E2EBFA;\n",
              "      box-shadow: 0px 1px 2px rgba(60, 64, 67, 0.3), 0px 1px 3px 1px rgba(60, 64, 67, 0.15);\n",
              "      fill: #174EA6;\n",
              "    }\n",
              "\n",
              "    .colab-df-buttons div {\n",
              "      margin-bottom: 4px;\n",
              "    }\n",
              "\n",
              "    [theme=dark] .colab-df-convert {\n",
              "      background-color: #3B4455;\n",
              "      fill: #D2E3FC;\n",
              "    }\n",
              "\n",
              "    [theme=dark] .colab-df-convert:hover {\n",
              "      background-color: #434B5C;\n",
              "      box-shadow: 0px 1px 3px 1px rgba(0, 0, 0, 0.15);\n",
              "      filter: drop-shadow(0px 1px 2px rgba(0, 0, 0, 0.3));\n",
              "      fill: #FFFFFF;\n",
              "    }\n",
              "  </style>\n",
              "\n",
              "    <script>\n",
              "      const buttonEl =\n",
              "        document.querySelector('#df-fa3d9373-e457-4e23-863f-398858e0348e button.colab-df-convert');\n",
              "      buttonEl.style.display =\n",
              "        google.colab.kernel.accessAllowed ? 'block' : 'none';\n",
              "\n",
              "      async function convertToInteractive(key) {\n",
              "        const element = document.querySelector('#df-fa3d9373-e457-4e23-863f-398858e0348e');\n",
              "        const dataTable =\n",
              "          await google.colab.kernel.invokeFunction('convertToInteractive',\n",
              "                                                    [key], {});\n",
              "        if (!dataTable) return;\n",
              "\n",
              "        const docLinkHtml = 'Like what you see? Visit the ' +\n",
              "          '<a target=\"_blank\" href=https://colab.research.google.com/notebooks/data_table.ipynb>data table notebook</a>'\n",
              "          + ' to learn more about interactive tables.';\n",
              "        element.innerHTML = '';\n",
              "        dataTable['output_type'] = 'display_data';\n",
              "        await google.colab.output.renderOutput(dataTable, element);\n",
              "        const docLink = document.createElement('div');\n",
              "        docLink.innerHTML = docLinkHtml;\n",
              "        element.appendChild(docLink);\n",
              "      }\n",
              "    </script>\n",
              "  </div>\n",
              "\n",
              "\n",
              "<div id=\"df-fe38e020-6472-4c9a-b1f9-20dca7566505\">\n",
              "  <button class=\"colab-df-quickchart\" onclick=\"quickchart('df-fe38e020-6472-4c9a-b1f9-20dca7566505')\"\n",
              "            title=\"Suggest charts\"\n",
              "            style=\"display:none;\">\n",
              "\n",
              "<svg xmlns=\"http://www.w3.org/2000/svg\" height=\"24px\"viewBox=\"0 0 24 24\"\n",
              "     width=\"24px\">\n",
              "    <g>\n",
              "        <path d=\"M19 3H5c-1.1 0-2 .9-2 2v14c0 1.1.9 2 2 2h14c1.1 0 2-.9 2-2V5c0-1.1-.9-2-2-2zM9 17H7v-7h2v7zm4 0h-2V7h2v10zm4 0h-2v-4h2v4z\"/>\n",
              "    </g>\n",
              "</svg>\n",
              "  </button>\n",
              "\n",
              "<style>\n",
              "  .colab-df-quickchart {\n",
              "      --bg-color: #E8F0FE;\n",
              "      --fill-color: #1967D2;\n",
              "      --hover-bg-color: #E2EBFA;\n",
              "      --hover-fill-color: #174EA6;\n",
              "      --disabled-fill-color: #AAA;\n",
              "      --disabled-bg-color: #DDD;\n",
              "  }\n",
              "\n",
              "  [theme=dark] .colab-df-quickchart {\n",
              "      --bg-color: #3B4455;\n",
              "      --fill-color: #D2E3FC;\n",
              "      --hover-bg-color: #434B5C;\n",
              "      --hover-fill-color: #FFFFFF;\n",
              "      --disabled-bg-color: #3B4455;\n",
              "      --disabled-fill-color: #666;\n",
              "  }\n",
              "\n",
              "  .colab-df-quickchart {\n",
              "    background-color: var(--bg-color);\n",
              "    border: none;\n",
              "    border-radius: 50%;\n",
              "    cursor: pointer;\n",
              "    display: none;\n",
              "    fill: var(--fill-color);\n",
              "    height: 32px;\n",
              "    padding: 0;\n",
              "    width: 32px;\n",
              "  }\n",
              "\n",
              "  .colab-df-quickchart:hover {\n",
              "    background-color: var(--hover-bg-color);\n",
              "    box-shadow: 0 1px 2px rgba(60, 64, 67, 0.3), 0 1px 3px 1px rgba(60, 64, 67, 0.15);\n",
              "    fill: var(--button-hover-fill-color);\n",
              "  }\n",
              "\n",
              "  .colab-df-quickchart-complete:disabled,\n",
              "  .colab-df-quickchart-complete:disabled:hover {\n",
              "    background-color: var(--disabled-bg-color);\n",
              "    fill: var(--disabled-fill-color);\n",
              "    box-shadow: none;\n",
              "  }\n",
              "\n",
              "  .colab-df-spinner {\n",
              "    border: 2px solid var(--fill-color);\n",
              "    border-color: transparent;\n",
              "    border-bottom-color: var(--fill-color);\n",
              "    animation:\n",
              "      spin 1s steps(1) infinite;\n",
              "  }\n",
              "\n",
              "  @keyframes spin {\n",
              "    0% {\n",
              "      border-color: transparent;\n",
              "      border-bottom-color: var(--fill-color);\n",
              "      border-left-color: var(--fill-color);\n",
              "    }\n",
              "    20% {\n",
              "      border-color: transparent;\n",
              "      border-left-color: var(--fill-color);\n",
              "      border-top-color: var(--fill-color);\n",
              "    }\n",
              "    30% {\n",
              "      border-color: transparent;\n",
              "      border-left-color: var(--fill-color);\n",
              "      border-top-color: var(--fill-color);\n",
              "      border-right-color: var(--fill-color);\n",
              "    }\n",
              "    40% {\n",
              "      border-color: transparent;\n",
              "      border-right-color: var(--fill-color);\n",
              "      border-top-color: var(--fill-color);\n",
              "    }\n",
              "    60% {\n",
              "      border-color: transparent;\n",
              "      border-right-color: var(--fill-color);\n",
              "    }\n",
              "    80% {\n",
              "      border-color: transparent;\n",
              "      border-right-color: var(--fill-color);\n",
              "      border-bottom-color: var(--fill-color);\n",
              "    }\n",
              "    90% {\n",
              "      border-color: transparent;\n",
              "      border-bottom-color: var(--fill-color);\n",
              "    }\n",
              "  }\n",
              "</style>\n",
              "\n",
              "  <script>\n",
              "    async function quickchart(key) {\n",
              "      const quickchartButtonEl =\n",
              "        document.querySelector('#' + key + ' button');\n",
              "      quickchartButtonEl.disabled = true;  // To prevent multiple clicks.\n",
              "      quickchartButtonEl.classList.add('colab-df-spinner');\n",
              "      try {\n",
              "        const charts = await google.colab.kernel.invokeFunction(\n",
              "            'suggestCharts', [key], {});\n",
              "      } catch (error) {\n",
              "        console.error('Error during call to suggestCharts:', error);\n",
              "      }\n",
              "      quickchartButtonEl.classList.remove('colab-df-spinner');\n",
              "      quickchartButtonEl.classList.add('colab-df-quickchart-complete');\n",
              "    }\n",
              "    (() => {\n",
              "      let quickchartButtonEl =\n",
              "        document.querySelector('#df-fe38e020-6472-4c9a-b1f9-20dca7566505 button');\n",
              "      quickchartButtonEl.style.display =\n",
              "        google.colab.kernel.accessAllowed ? 'block' : 'none';\n",
              "    })();\n",
              "  </script>\n",
              "</div>\n",
              "\n",
              "  <div id=\"id_e773d8f0-743f-4f41-8331-13f04822667e\">\n",
              "    <style>\n",
              "      .colab-df-generate {\n",
              "        background-color: #E8F0FE;\n",
              "        border: none;\n",
              "        border-radius: 50%;\n",
              "        cursor: pointer;\n",
              "        display: none;\n",
              "        fill: #1967D2;\n",
              "        height: 32px;\n",
              "        padding: 0 0 0 0;\n",
              "        width: 32px;\n",
              "      }\n",
              "\n",
              "      .colab-df-generate:hover {\n",
              "        background-color: #E2EBFA;\n",
              "        box-shadow: 0px 1px 2px rgba(60, 64, 67, 0.3), 0px 1px 3px 1px rgba(60, 64, 67, 0.15);\n",
              "        fill: #174EA6;\n",
              "      }\n",
              "\n",
              "      [theme=dark] .colab-df-generate {\n",
              "        background-color: #3B4455;\n",
              "        fill: #D2E3FC;\n",
              "      }\n",
              "\n",
              "      [theme=dark] .colab-df-generate:hover {\n",
              "        background-color: #434B5C;\n",
              "        box-shadow: 0px 1px 3px 1px rgba(0, 0, 0, 0.15);\n",
              "        filter: drop-shadow(0px 1px 2px rgba(0, 0, 0, 0.3));\n",
              "        fill: #FFFFFF;\n",
              "      }\n",
              "    </style>\n",
              "    <button class=\"colab-df-generate\" onclick=\"generateWithVariable('data')\"\n",
              "            title=\"Generate code using this dataframe.\"\n",
              "            style=\"display:none;\">\n",
              "\n",
              "  <svg xmlns=\"http://www.w3.org/2000/svg\" height=\"24px\"viewBox=\"0 0 24 24\"\n",
              "       width=\"24px\">\n",
              "    <path d=\"M7,19H8.4L18.45,9,17,7.55,7,17.6ZM5,21V16.75L18.45,3.32a2,2,0,0,1,2.83,0l1.4,1.43a1.91,1.91,0,0,1,.58,1.4,1.91,1.91,0,0,1-.58,1.4L9.25,21ZM18.45,9,17,7.55Zm-12,3A5.31,5.31,0,0,0,4.9,8.1,5.31,5.31,0,0,0,1,6.5,5.31,5.31,0,0,0,4.9,4.9,5.31,5.31,0,0,0,6.5,1,5.31,5.31,0,0,0,8.1,4.9,5.31,5.31,0,0,0,12,6.5,5.46,5.46,0,0,0,6.5,12Z\"/>\n",
              "  </svg>\n",
              "    </button>\n",
              "    <script>\n",
              "      (() => {\n",
              "      const buttonEl =\n",
              "        document.querySelector('#id_e773d8f0-743f-4f41-8331-13f04822667e button.colab-df-generate');\n",
              "      buttonEl.style.display =\n",
              "        google.colab.kernel.accessAllowed ? 'block' : 'none';\n",
              "\n",
              "      buttonEl.onclick = () => {\n",
              "        google.colab.notebook.generateWithVariable('data');\n",
              "      }\n",
              "      })();\n",
              "    </script>\n",
              "  </div>\n",
              "\n",
              "    </div>\n",
              "  </div>\n"
            ],
            "application/vnd.google.colaboratory.intrinsic+json": {
              "type": "dataframe",
              "variable_name": "data"
            }
          },
          "metadata": {},
          "execution_count": 10
        }
      ]
    },
    {
      "cell_type": "code",
      "source": [
        "texts = data['text'].values\n",
        "tags = data['Tag'].values"
      ],
      "metadata": {
        "id": "m87I6f_3PPAD"
      },
      "execution_count": 11,
      "outputs": []
    },
    {
      "cell_type": "code",
      "source": [
        "max_words = 10000\n",
        "max_len = 100\n",
        "tokenizer = Tokenizer(num_words=max_words, oov_token=\"<OOV>\")\n",
        "tokenizer.fit_on_texts(texts)"
      ],
      "metadata": {
        "id": "edzTH98HPXnO"
      },
      "execution_count": 12,
      "outputs": []
    },
    {
      "cell_type": "code",
      "source": [
        "text_sequences = tokenizer.texts_to_sequences(texts)"
      ],
      "metadata": {
        "id": "uS4cePy9PcRl"
      },
      "execution_count": 13,
      "outputs": []
    },
    {
      "cell_type": "code",
      "source": [
        "text_padded = pad_sequences(text_sequences, maxlen=max_len, padding='post')"
      ],
      "metadata": {
        "id": "V-c4NirLRJCl"
      },
      "execution_count": 14,
      "outputs": []
    },
    {
      "cell_type": "code",
      "source": [
        "tag_counts = pd.Series(np.concatenate(tags)).value_counts()\n",
        "tag_counts"
      ],
      "metadata": {
        "id": "VZH8Y8mMUzNg",
        "colab": {
          "base_uri": "https://localhost:8080/",
          "height": 458
        },
        "outputId": "c0ff8490-05e4-4998-caa3-d919b91426a8"
      },
      "execution_count": 15,
      "outputs": [
        {
          "output_type": "execute_result",
          "data": {
            "text/plain": [
              "['javascript']         62183\n",
              "['java']               57604\n",
              "['c#']                 50383\n",
              "['php']                49076\n",
              "['android']            45320\n",
              "                       ...  \n",
              "['invalid-pointer']        1\n",
              "['cdonts']                 1\n",
              "['perl-hash']              1\n",
              "['datatip']                1\n",
              "['docker-windows']         1\n",
              "Name: count, Length: 32219, dtype: int64"
            ],
            "text/html": [
              "<div>\n",
              "<style scoped>\n",
              "    .dataframe tbody tr th:only-of-type {\n",
              "        vertical-align: middle;\n",
              "    }\n",
              "\n",
              "    .dataframe tbody tr th {\n",
              "        vertical-align: top;\n",
              "    }\n",
              "\n",
              "    .dataframe thead th {\n",
              "        text-align: right;\n",
              "    }\n",
              "</style>\n",
              "<table border=\"1\" class=\"dataframe\">\n",
              "  <thead>\n",
              "    <tr style=\"text-align: right;\">\n",
              "      <th></th>\n",
              "      <th>count</th>\n",
              "    </tr>\n",
              "  </thead>\n",
              "  <tbody>\n",
              "    <tr>\n",
              "      <th>['javascript']</th>\n",
              "      <td>62183</td>\n",
              "    </tr>\n",
              "    <tr>\n",
              "      <th>['java']</th>\n",
              "      <td>57604</td>\n",
              "    </tr>\n",
              "    <tr>\n",
              "      <th>['c#']</th>\n",
              "      <td>50383</td>\n",
              "    </tr>\n",
              "    <tr>\n",
              "      <th>['php']</th>\n",
              "      <td>49076</td>\n",
              "    </tr>\n",
              "    <tr>\n",
              "      <th>['android']</th>\n",
              "      <td>45320</td>\n",
              "    </tr>\n",
              "    <tr>\n",
              "      <th>...</th>\n",
              "      <td>...</td>\n",
              "    </tr>\n",
              "    <tr>\n",
              "      <th>['invalid-pointer']</th>\n",
              "      <td>1</td>\n",
              "    </tr>\n",
              "    <tr>\n",
              "      <th>['cdonts']</th>\n",
              "      <td>1</td>\n",
              "    </tr>\n",
              "    <tr>\n",
              "      <th>['perl-hash']</th>\n",
              "      <td>1</td>\n",
              "    </tr>\n",
              "    <tr>\n",
              "      <th>['datatip']</th>\n",
              "      <td>1</td>\n",
              "    </tr>\n",
              "    <tr>\n",
              "      <th>['docker-windows']</th>\n",
              "      <td>1</td>\n",
              "    </tr>\n",
              "  </tbody>\n",
              "</table>\n",
              "<p>32219 rows × 1 columns</p>\n",
              "</div><br><label><b>dtype:</b> int64</label>"
            ]
          },
          "metadata": {},
          "execution_count": 15
        }
      ]
    },
    {
      "cell_type": "code",
      "source": [
        "top_tags = tag_counts.index[:10]  # Limit to top 10 tags to reduce RAM usage in colab\n",
        "tags = [[tag for tag in tag_list if tag in top_tags] for tag_list in tags]"
      ],
      "metadata": {
        "id": "6lWYw4f664zI"
      },
      "execution_count": 16,
      "outputs": []
    },
    {
      "cell_type": "code",
      "source": [
        "top_tags"
      ],
      "metadata": {
        "colab": {
          "base_uri": "https://localhost:8080/"
        },
        "id": "eIQZ5meQt-De",
        "outputId": "6f83850e-14f6-43fe-bebc-75e88520c5b1"
      },
      "execution_count": 17,
      "outputs": [
        {
          "output_type": "execute_result",
          "data": {
            "text/plain": [
              "Index(['['javascript']', '['java']', '['c#']', '['php']', '['android']',\n",
              "       '['jquery']', '['python']', '['html']', '['c++']', '['ios']'],\n",
              "      dtype='object')"
            ]
          },
          "metadata": {},
          "execution_count": 17
        }
      ]
    },
    {
      "cell_type": "code",
      "source": [
        "mlb = MultiLabelBinarizer()\n",
        "tags_encoded = mlb.fit_transform(tags)"
      ],
      "metadata": {
        "id": "KG8vQaG9UKpO"
      },
      "execution_count": 18,
      "outputs": []
    },
    {
      "cell_type": "code",
      "source": [
        "text_padded = np.array(text_padded, dtype=np.int32)\n",
        "tags_encoded = np.array(tags_encoded, dtype=np.float32)"
      ],
      "metadata": {
        "id": "wodH7Ykto1xR"
      },
      "execution_count": 19,
      "outputs": []
    },
    {
      "cell_type": "code",
      "source": [
        "X_train, X_test, y_train, y_test = train_test_split(text_padded, tags_encoded, test_size=0.2, random_state=42)"
      ],
      "metadata": {
        "id": "4iRyO-y8XU7y"
      },
      "execution_count": 20,
      "outputs": []
    },
    {
      "cell_type": "code",
      "source": [
        "embedding_dim = 128\n",
        "model = tf.keras.Sequential([\n",
        "    tf.keras.layers.Embedding(max_words, embedding_dim),\n",
        "    tf.keras.layers.Bidirectional(tf.keras.layers.LSTM(128, return_sequences=True, dropout=0.2, recurrent_dropout=0.2)),\n",
        "    tf.keras.layers.GlobalMaxPooling1D(),\n",
        "    tf.keras.layers.Dense(128, activation='relu'),\n",
        "    tf.keras.layers.Dropout(0.3),\n",
        "    tf.keras.layers.Dense(tags_encoded.shape[1], activation='sigmoid')\n",
        "])\n",
        "\n",
        "model.compile(\n",
        "    loss='binary_crossentropy',\n",
        "    optimizer=tf.keras.optimizers.Adam(learning_rate=0.0005),\n",
        "    metrics=['accuracy']\n",
        ")"
      ],
      "metadata": {
        "id": "Wmj87zUxZYRR"
      },
      "execution_count": 21,
      "outputs": []
    },
    {
      "cell_type": "code",
      "source": [
        "# Train the model\n",
        "batch_size = 64\n",
        "epochs = 5\n",
        "\n",
        "history = model.fit(\n",
        "    X_train, y_train,\n",
        "    epochs=epochs,\n",
        "    batch_size=batch_size,\n",
        "    validation_data=(X_test, y_test)\n",
        ")\n",
        "\n",
        "# 8 hours+ runtime"
      ],
      "metadata": {
        "colab": {
          "base_uri": "https://localhost:8080/"
        },
        "id": "pK3LdqPLXEJk",
        "outputId": "b2a95f7f-0fef-46f0-f5fe-e50220922094"
      },
      "execution_count": 22,
      "outputs": [
        {
          "output_type": "stream",
          "name": "stdout",
          "text": [
            "Epoch 1/5\n",
            "\u001b[1m13005/13005\u001b[0m \u001b[32m━━━━━━━━━━━━━━━━━━━━\u001b[0m\u001b[37m\u001b[0m \u001b[1m6156s\u001b[0m 473ms/step - accuracy: 0.2250 - loss: 0.1279 - val_accuracy: 0.3074 - val_loss: 0.0914\n",
            "Epoch 2/5\n",
            "\u001b[1m13005/13005\u001b[0m \u001b[32m━━━━━━━━━━━━━━━━━━━━\u001b[0m\u001b[37m\u001b[0m \u001b[1m6343s\u001b[0m 484ms/step - accuracy: 0.3065 - loss: 0.0918 - val_accuracy: 0.3136 - val_loss: 0.0893\n",
            "Epoch 3/5\n",
            "\u001b[1m13005/13005\u001b[0m \u001b[32m━━━━━━━━━━━━━━━━━━━━\u001b[0m\u001b[37m\u001b[0m \u001b[1m6395s\u001b[0m 492ms/step - accuracy: 0.3137 - loss: 0.0887 - val_accuracy: 0.3110 - val_loss: 0.0885\n",
            "Epoch 4/5\n",
            "\u001b[1m13005/13005\u001b[0m \u001b[32m━━━━━━━━━━━━━━━━━━━━\u001b[0m\u001b[37m\u001b[0m \u001b[1m6383s\u001b[0m 487ms/step - accuracy: 0.3161 - loss: 0.0869 - val_accuracy: 0.3095 - val_loss: 0.0884\n",
            "Epoch 5/5\n",
            "\u001b[1m13005/13005\u001b[0m \u001b[32m━━━━━━━━━━━━━━━━━━━━\u001b[0m\u001b[37m\u001b[0m \u001b[1m6321s\u001b[0m 486ms/step - accuracy: 0.3169 - loss: 0.0851 - val_accuracy: 0.3112 - val_loss: 0.0884\n"
          ]
        }
      ]
    },
    {
      "cell_type": "code",
      "source": [
        "loss, accuracy = model.evaluate(X_test, y_test)\n",
        "print(f\"Test Loss: {loss}\")\n",
        "print(f\"Test Accuracy: {accuracy}\")"
      ],
      "metadata": {
        "colab": {
          "base_uri": "https://localhost:8080/"
        },
        "id": "f_w41ubKXJXn",
        "outputId": "214206b0-aba2-4d18-b6fc-82ce4898cb80"
      },
      "execution_count": 23,
      "outputs": [
        {
          "output_type": "stream",
          "name": "stdout",
          "text": [
            "\u001b[1m6503/6503\u001b[0m \u001b[32m━━━━━━━━━━━━━━━━━━━━\u001b[0m\u001b[37m\u001b[0m \u001b[1m662s\u001b[0m 102ms/step - accuracy: 0.3105 - loss: 0.0884\n",
            "Test Loss: 0.08840310573577881\n",
            "Test Accuracy: 0.3111996352672577\n"
          ]
        }
      ]
    },
    {
      "cell_type": "code",
      "source": [
        "import pickle\n",
        "\n",
        "with open('tokenizer.pkl', 'wb') as f:\n",
        "    pickle.dump(tokenizer, f)\n",
        "\n",
        "with open('mlb.pkl', 'wb') as f:\n",
        "    pickle.dump(mlb, f)\n",
        "\n",
        "model.save('stackoverflow_lstm_model_edit.h5')"
      ],
      "metadata": {
        "colab": {
          "base_uri": "https://localhost:8080/"
        },
        "id": "AZWZ1QknxSiX",
        "outputId": "97342b23-dbb4-43a4-aa2d-6fb263b26350"
      },
      "execution_count": 24,
      "outputs": [
        {
          "output_type": "stream",
          "name": "stderr",
          "text": [
            "WARNING:absl:You are saving your model as an HDF5 file via `model.save()` or `keras.saving.save_model(model)`. This file format is considered legacy. We recommend using instead the native Keras format, e.g. `model.save('my_model.keras')` or `keras.saving.save_model(model, 'my_model.keras')`. \n"
          ]
        }
      ]
    },
    {
      "cell_type": "code",
      "source": [
        "def predict_tags(texts):\n",
        "    sequences = tokenizer.texts_to_sequences(texts)\n",
        "    padded = pad_sequences(sequences, maxlen=max_len, padding='post')\n",
        "    predictions = model.predict(padded)\n",
        "    predicted_tags_list = []\n",
        "    for prediction in predictions:\n",
        "        predicted_tags = [mlb.classes_[i] for i in range(len(prediction)) if prediction[i] > 0.1]\n",
        "        predicted_tags_list.append(predicted_tags)\n",
        "    return predicted_tags_list"
      ],
      "metadata": {
        "id": "OzjjiIXhrN4y"
      },
      "execution_count": 26,
      "outputs": []
    },
    {
      "cell_type": "code",
      "source": [
        "sample_text = [\"Create an encrypted ZIP file in Python\", \"Java ClassLoader dont load all classes in jar\",\n",
        "               \"PHP LoginScript MySQL Checking results error\"]\n",
        "print(\"Predicted Tags:\", predict_tags(sample_text))"
      ],
      "metadata": {
        "colab": {
          "base_uri": "https://localhost:8080/"
        },
        "id": "rIp3eQhUrgLB",
        "outputId": "b5f51056-7368-4caa-a07a-95d225f052ce"
      },
      "execution_count": 29,
      "outputs": [
        {
          "output_type": "stream",
          "name": "stdout",
          "text": [
            "\u001b[1m1/1\u001b[0m \u001b[32m━━━━━━━━━━━━━━━━━━━━\u001b[0m\u001b[37m\u001b[0m \u001b[1m0s\u001b[0m 44ms/step\n",
            "Predicted Tags: [[\"['python']\"], [\"['java']\"], [\"['php']\"]]\n"
          ]
        }
      ]
    },
    {
      "cell_type": "code",
      "source": [],
      "metadata": {
        "id": "tppEadZfrnPg"
      },
      "execution_count": null,
      "outputs": []
    }
  ]
}